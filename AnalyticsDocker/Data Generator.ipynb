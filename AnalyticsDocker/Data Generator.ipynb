{
 "cells": [
  {
   "cell_type": "code",
   "execution_count": 45,
   "id": "01fe88d0",
   "metadata": {},
   "outputs": [],
   "source": [
    "#Importing the required libraries\n",
    "import requests\n",
    "from datetime import datetime, timedelta\n",
    "import json"
   ]
  },
  {
   "cell_type": "markdown",
   "id": "1d44e3c9",
   "metadata": {},
   "source": [
    "## Sales Order"
   ]
  },
  {
   "cell_type": "code",
   "execution_count": 17,
   "id": "a0270991",
   "metadata": {},
   "outputs": [],
   "source": [
    "#Function to call the API\n",
    "def api_callSO(tranDate):\n",
    "    response = requests.get(f'http://127.0.0.1:8000/soData?paramDate={tranDate}')\n",
    "    data = response.json()        \n",
    "    tupleToInsert = tuple(data.values())\n",
    "    return tupleToInsert\n",
    "\n",
    "#Function to create a SQL insert statement\n",
    "def convert_to_sqlSO(data):\n",
    "    sql_statements = []\n",
    "    for record in data:\n",
    "        values = ', '.join([f\"'{str(value)}'\" for value in record])\n",
    "        sql_statement = f\"\"\"INSERT INTO salesorder\n",
    "    (idCustomer, idItem, createdDate, dueDate, shipDate, qty, qtyFullfilled, qtyShipped, soStatus) \n",
    "    VALUES ({values});\"\"\"\n",
    "        sql_statements.append(sql_statement)\n",
    "    return sql_statements\n",
    "\n",
    "#Function to store SQL script into a file\n",
    "def store_sql_scriptSO(sql_statements, file_name='so_insert.sql'):\n",
    "    with open(file_name, 'w') as file:\n",
    "        for statement in sql_statements:\n",
    "            file.write(statement  + '\\n')"
   ]
  },
  {
   "cell_type": "code",
   "execution_count": 18,
   "id": "80f0c9d1",
   "metadata": {},
   "outputs": [],
   "source": [
    "#Starting date from the extraction\n",
    "tranDate = datetime.datetime(2024, 1, 1).strftime(\"%Y-%m-%d\")\n",
    "\n",
    "#List that will contain the results\n",
    "resultsSO = []"
   ]
  },
  {
   "cell_type": "code",
   "execution_count": 19,
   "id": "3464ab99",
   "metadata": {},
   "outputs": [],
   "source": [
    "i = 0\n",
    "\n",
    "#creting a iteration to retrieve the data and storing in into a dictionary\n",
    "while True:\n",
    "    #if its the first iter the starting date will be used\n",
    "    if i == 0:\n",
    "        resultsSO.append(api_callSO(tranDate))\n",
    "    #for the following iter the last date will be used\n",
    "    else:\n",
    "        #this is used to get the last date and have only the date from it\n",
    "        call = api_callSO(resultsSO[-1][2][:10])\n",
    "        #only the year 2024 will be retrived\n",
    "        if \"2025\" in call[2][:10]:\n",
    "            break\n",
    "        else:\n",
    "            resultsSO.append(call)\n",
    "    i += 1\n",
    "    #security measuere\n",
    "    if i == 10000:\n",
    "        break"
   ]
  },
  {
   "cell_type": "code",
   "execution_count": 20,
   "id": "18ea9236",
   "metadata": {},
   "outputs": [],
   "source": [
    "#creating the inserts statements\n",
    "sql_statements_SO = convert_to_sqlSO(resultsSO)"
   ]
  },
  {
   "cell_type": "code",
   "execution_count": 21,
   "id": "23d0f760",
   "metadata": {},
   "outputs": [],
   "source": [
    "#saving the statements\n",
    "store_sql_scriptSO(sql_statements_SO)"
   ]
  },
  {
   "cell_type": "markdown",
   "id": "7db2d0fc",
   "metadata": {},
   "source": [
    "## WO"
   ]
  },
  {
   "cell_type": "code",
   "execution_count": 30,
   "id": "d368fe0c",
   "metadata": {},
   "outputs": [],
   "source": [
    "#Function to call the API\n",
    "def api_callWO(idSO, idItem, fromDate, qtyFullfilled, soStatus):\n",
    "    response = requests.get(f'http://127.0.0.1:8000/woData?idSO={idSO}&idItem={idItem}&fromDate={fromDate}&qtyFullfilled={qtyFullfilled}&soStatus={soStatus}')\n",
    "    data = response.json()        \n",
    "    tupleToInsert = tuple(data.values())\n",
    "    return tupleToInsert\n",
    "\n",
    "#Function to create a SQL insert statement\n",
    "def convert_to_sqlWO(data):\n",
    "    sql_statements = []\n",
    "    for record in data:\n",
    "        values = ', '.join([f\"'{str(value)}'\" for value in record])\n",
    "        sql_statement = f\"\"\"INSERT INTO workOrder \n",
    "    (idSO, idItem, createdDate, closedDate, qtyCreated, scrapQty) \n",
    "    VALUES ({values});\"\"\"\n",
    "        sql_statements.append(sql_statement)\n",
    "    return sql_statements\n",
    "\n",
    "#Function to store SQL script into a file\n",
    "def store_sql_scriptWO(sql_statements, file_name='woInsert.sql'):\n",
    "    with open(file_name, 'w') as file:\n",
    "        for statement in sql_statements:\n",
    "            file.write(statement  + '\\n')"
   ]
  },
  {
   "cell_type": "code",
   "execution_count": 25,
   "id": "9d2f5927",
   "metadata": {},
   "outputs": [],
   "source": [
    "#List that will contain the results\n",
    "resultsWO = []"
   ]
  },
  {
   "cell_type": "code",
   "execution_count": 31,
   "id": "9104dec0",
   "metadata": {},
   "outputs": [],
   "source": [
    "#Iterating through the sales order to retrieve the working orders data\n",
    "for i in range(len(resultsSO)):\n",
    "    #because the id in the SO table is a Serial and we are inserting the data on the creation of the container\n",
    "    #the position of the list will be used as the id because they are the same\n",
    "    resultsWO.append(api_callWO(i+1, resultsSO[i][1], resultsSO[i][2][:10], resultsSO[i][6], resultsSO[i][8]))"
   ]
  },
  {
   "cell_type": "code",
   "execution_count": 32,
   "id": "3daa758c",
   "metadata": {},
   "outputs": [],
   "source": [
    "#creating the inserts statements\n",
    "sql_statements_WO = convert_to_sqlWO(resultsWO)"
   ]
  },
  {
   "cell_type": "code",
   "execution_count": 33,
   "id": "f5deea90",
   "metadata": {},
   "outputs": [],
   "source": [
    "#saving the statements\n",
    "store_sql_scriptWO(sql_statements_WO)"
   ]
  },
  {
   "cell_type": "markdown",
   "id": "5f6a8ac8",
   "metadata": {},
   "source": [
    "## Quota"
   ]
  },
  {
   "cell_type": "code",
   "execution_count": 34,
   "id": "0a499558",
   "metadata": {},
   "outputs": [],
   "source": [
    "#Function to call the API\n",
    "def api_callQuota(fromDate, idItem):\n",
    "    response = requests.get(f'http://127.0.0.1:8000/quota?fromDate={fromDate}&idItem={idItem}')\n",
    "    data = response.json()        \n",
    "    tupleToInsert = tuple(data.values())\n",
    "    return tupleToInsert\n",
    "\n",
    "#Function to create a SQL insert statement\n",
    "def convert_to_sqlQuota(data):\n",
    "    sql_statements = []\n",
    "    for record in data:\n",
    "        values = ', '.join([f\"'{str(value)}'\" for value in record])\n",
    "        sql_statement = f\"\"\"INSERT INTO quota \n",
    "    (period, idItem, quota) \n",
    "    VALUES ({values});\"\"\"\n",
    "        sql_statements.append(sql_statement)\n",
    "    return sql_statements\n",
    "\n",
    "#Function to store SQL script into a file\n",
    "def store_sql_scriptQuota(sql_statements, file_name='quotaInsert.sql'):\n",
    "    with open(file_name, 'w') as file:\n",
    "        for statement in sql_statements:\n",
    "            file.write(statement  + '\\n')"
   ]
  },
  {
   "cell_type": "code",
   "execution_count": 40,
   "id": "8ce15396",
   "metadata": {},
   "outputs": [],
   "source": [
    "#List that will contain the results\n",
    "resultsQuota = []\n",
    "\n",
    "#List containing the periods for the Quota that needs to be generated\n",
    "periods = [\"2024-01-01\",\n",
    "           \"2024-02-01\",\n",
    "           \"2024-03-01\",\n",
    "           \"2024-04-01\",\n",
    "           \"2024-05-01\",\n",
    "           \"2024-06-01\",\n",
    "           \"2024-07-01\",\n",
    "           \"2024-08-01\",\n",
    "           \"2024-09-01\",\n",
    "           \"2024-10-01\",\n",
    "           \"2024-11-01\",\n",
    "           \"2024-12-01\"]\n",
    "\n",
    "#List cointaing the ID of the items\n",
    "items = [\"1\",\"2\",\"3\"]"
   ]
  },
  {
   "cell_type": "code",
   "execution_count": 41,
   "id": "5f747c0b",
   "metadata": {},
   "outputs": [],
   "source": [
    "for period in periods:\n",
    "    for item in items:\n",
    "        resultsQuota.append(api_callQuota(period, item))"
   ]
  },
  {
   "cell_type": "code",
   "execution_count": 42,
   "id": "afd7ff77",
   "metadata": {},
   "outputs": [],
   "source": [
    "#creating the inserts statements\n",
    "sql_statements_Quota = convert_to_sqlQuota(resultsQuota)"
   ]
  },
  {
   "cell_type": "code",
   "execution_count": 43,
   "id": "167d2689",
   "metadata": {},
   "outputs": [],
   "source": [
    "#saving the statements\n",
    "store_sql_scriptQuota(sql_statements_Quota)"
   ]
  },
  {
   "cell_type": "markdown",
   "id": "ae9fdb75",
   "metadata": {},
   "source": [
    "## Sensor Data"
   ]
  },
  {
   "cell_type": "code",
   "execution_count": 49,
   "id": "51559700",
   "metadata": {},
   "outputs": [],
   "source": [
    "#funtion to generate a list with the days beetween 2 dates\n",
    "def generate_date_list(start_date, end_date):\n",
    "    date_list = []\n",
    "    current_date = start_date\n",
    "    \n",
    "    while current_date <= end_date:\n",
    "        date_list.append(current_date)\n",
    "        current_date += timedelta(days=1)\n",
    "    \n",
    "    return date_list\n",
    "\n",
    "#Function to create a SQL insert statement\n",
    "def convert_to_sqlSensor(data):\n",
    "    sql_statements = []\n",
    "    for record in data:\n",
    "        values = ', '.join([f\"'{str(value)}'\" for value in record])\n",
    "        sql_statement = f\"\"\"INSERT INTO sensordata \n",
    "    (createdAt, mach, temp)\n",
    "    VALUES ({values});\"\"\"\n",
    "        sql_statements.append(sql_statement)\n",
    "    return sql_statements"
   ]
  },
  {
   "cell_type": "code",
   "execution_count": 47,
   "id": "48cec960",
   "metadata": {},
   "outputs": [],
   "source": [
    "#Creating a list with the days of the year 2024\n",
    "start_date = datetime.strptime('2024-01-01', '%Y-%m-%d')\n",
    "end_date = datetime.strptime('2024-12-31', '%Y-%m-%d')\n",
    "\n",
    "date_list = generate_date_list(start_date, end_date)"
   ]
  },
  {
   "cell_type": "code",
   "execution_count": 50,
   "id": "f153808c",
   "metadata": {},
   "outputs": [],
   "source": [
    "#Defining the parameters wich the sensor data will be created\n",
    "parameters = {\n",
    "    '1': {'cicleTime': 75, 'cicleDev': 10, 'maq': 'Iny 1'},\n",
    "    '2': {'cicleTime': 40, 'cicleDev': 5, 'maq': 'Iny 2'},\n",
    "    '3': {'cicleTime': 90, 'cicleDev': 18, 'maq': 'Iny 3'},\n",
    "}"
   ]
  },
  {
   "cell_type": "code",
   "execution_count": null,
   "id": "859b0787",
   "metadata": {},
   "outputs": [],
   "source": []
  }
 ],
 "metadata": {
  "kernelspec": {
   "display_name": "Python 3 (ipykernel)",
   "language": "python",
   "name": "python3"
  },
  "language_info": {
   "codemirror_mode": {
    "name": "ipython",
    "version": 3
   },
   "file_extension": ".py",
   "mimetype": "text/x-python",
   "name": "python",
   "nbconvert_exporter": "python",
   "pygments_lexer": "ipython3",
   "version": "3.9.16"
  }
 },
 "nbformat": 4,
 "nbformat_minor": 5
}
