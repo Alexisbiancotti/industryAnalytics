{
 "cells": [
  {
   "cell_type": "code",
   "execution_count": 1,
   "id": "01fe88d0",
   "metadata": {},
   "outputs": [],
   "source": [
    "#Importing the required libraries\n",
    "import requests\n",
    "from datetime import datetime, timedelta\n",
    "import json\n",
    "import random\n",
    "import os"
   ]
  },
  {
   "cell_type": "markdown",
   "id": "1d44e3c9",
   "metadata": {},
   "source": [
    "## Sales Order"
   ]
  },
  {
   "cell_type": "code",
   "execution_count": 22,
   "id": "a0270991",
   "metadata": {},
   "outputs": [],
   "source": [
    "#Function to call the API\n",
    "def api_callSO(tranDate):\n",
    "    response = requests.get(f'http://127.0.0.1:8000/soData?paramDate={tranDate}')\n",
    "    data = response.json()        \n",
    "    tupleToInsert = tuple(data.values())\n",
    "    return tupleToInsert\n",
    "\n",
    "#Function to create a SQL insert statement\n",
    "def convert_to_sqlSO(data):\n",
    "    sql_statements = []\n",
    "    for record in data:\n",
    "        values = ', '.join([f\"'{str(value)}'\" for value in record])\n",
    "        sql_statement = f\"\"\"INSERT INTO salesorder\n",
    "    (idCustomer, idItem, createdDate, dueDate, shipDate, qty, qtyFullfilled, qtyShipped, soStatus) \n",
    "    VALUES ({values});\"\"\"\n",
    "        sql_statements.append(sql_statement)\n",
    "    return sql_statements\n",
    "\n",
    "#Function to store SQL script into a file\n",
    "def store_sql_scriptSO(sql_statements, file_name='C:/Tesis/AnalyticsDocker/postgresql/soInsert.sql'):\n",
    "    with open(file_name, 'w') as file:\n",
    "        for statement in sql_statements:\n",
    "            file.write(statement  + '\\n')"
   ]
  },
  {
   "cell_type": "code",
   "execution_count": 23,
   "id": "80f0c9d1",
   "metadata": {},
   "outputs": [],
   "source": [
    "#Starting date from the extraction\n",
    "tranDate = datetime(2024, 1, 1).strftime(\"%Y-%m-%d\")\n",
    "\n",
    "#List that will contain the results\n",
    "resultsSO = []"
   ]
  },
  {
   "cell_type": "code",
   "execution_count": 24,
   "id": "3464ab99",
   "metadata": {},
   "outputs": [],
   "source": [
    "i = 0\n",
    "\n",
    "#creting a iteration to retrieve the data and storing in into a dictionary\n",
    "while True:\n",
    "    #if its the first iter the starting date will be used\n",
    "    if i == 0:\n",
    "        resultsSO.append(api_callSO(tranDate))\n",
    "    #for the following iter the last date will be used\n",
    "    else:\n",
    "        #this is used to get the last date and have only the date from it\n",
    "        call = api_callSO(resultsSO[-1][2][:10])\n",
    "        #only the year 2024 will be retrived\n",
    "        if \"2025\" in call[2][:10]:\n",
    "            break\n",
    "        else:\n",
    "            resultsSO.append(call)\n",
    "    i += 1\n",
    "    #security measuere\n",
    "    if i == 10000:\n",
    "        break"
   ]
  },
  {
   "cell_type": "code",
   "execution_count": 25,
   "id": "18ea9236",
   "metadata": {},
   "outputs": [],
   "source": [
    "#creating the inserts statements\n",
    "sql_statements_SO = convert_to_sqlSO(resultsSO)"
   ]
  },
  {
   "cell_type": "code",
   "execution_count": 26,
   "id": "23d0f760",
   "metadata": {},
   "outputs": [],
   "source": [
    "#saving the statements\n",
    "store_sql_scriptSO(sql_statements_SO)"
   ]
  },
  {
   "cell_type": "markdown",
   "id": "7db2d0fc",
   "metadata": {},
   "source": [
    "## WO"
   ]
  },
  {
   "cell_type": "code",
   "execution_count": 27,
   "id": "d368fe0c",
   "metadata": {},
   "outputs": [],
   "source": [
    "#Function to call the API\n",
    "def api_callWO(idSO, idItem, fromDate, qtyFullfilled, soStatus):\n",
    "    response = requests.get(f'http://127.0.0.1:8000/woData?idSO={idSO}&idItem={idItem}&fromDate={fromDate}&qtyFullfilled={qtyFullfilled}&soStatus={soStatus}')\n",
    "    data = response.json()        \n",
    "    tupleToInsert = tuple(data.values())\n",
    "    return tupleToInsert\n",
    "\n",
    "#Function to create a SQL insert statement\n",
    "def convert_to_sqlWO(data):\n",
    "    sql_statements = []\n",
    "    for record in data:\n",
    "        values = ', '.join([f\"'{str(value)}'\" for value in record])\n",
    "        sql_statement = f\"\"\"INSERT INTO workOrder \n",
    "    (idSO, idItem, createdDate, closedDate, qtyCreated, scrapQty) \n",
    "    VALUES ({values});\"\"\"\n",
    "        sql_statements.append(sql_statement)\n",
    "    return sql_statements\n",
    "\n",
    "#Function to store SQL script into a file\n",
    "def store_sql_scriptWO(sql_statements, file_name='C:/Tesis/AnalyticsDocker/postgresql/woInsert.sql'):\n",
    "    with open(file_name, 'w') as file:\n",
    "        for statement in sql_statements:\n",
    "            file.write(statement  + '\\n')"
   ]
  },
  {
   "cell_type": "code",
   "execution_count": 28,
   "id": "9d2f5927",
   "metadata": {},
   "outputs": [],
   "source": [
    "#List that will contain the results\n",
    "resultsWO = []"
   ]
  },
  {
   "cell_type": "code",
   "execution_count": 29,
   "id": "9104dec0",
   "metadata": {},
   "outputs": [],
   "source": [
    "#Iterating through the sales order to retrieve the working orders data\n",
    "for i in range(len(resultsSO)):\n",
    "    \n",
    "    #this condition is needed in order to dont simulate wo data on orders that doesnt have stock related\n",
    "    if resultsSO[i][8] == 'Approved':\n",
    "        \n",
    "        continue\n",
    "    \n",
    "    #because the id in the SO table is a Serial and we are inserting the data on the creation of the container\n",
    "    #the position of the list will be used as the id because they are the same\n",
    "    resultsWO.append(api_callWO(i+1, resultsSO[i][1], resultsSO[i][2][:10], resultsSO[i][6], resultsSO[i][8]))"
   ]
  },
  {
   "cell_type": "code",
   "execution_count": 30,
   "id": "3daa758c",
   "metadata": {},
   "outputs": [],
   "source": [
    "#creating the inserts statements\n",
    "sql_statements_WO = convert_to_sqlWO(resultsWO)"
   ]
  },
  {
   "cell_type": "code",
   "execution_count": 31,
   "id": "f5deea90",
   "metadata": {},
   "outputs": [],
   "source": [
    "#saving the statements\n",
    "store_sql_scriptWO(sql_statements_WO)"
   ]
  },
  {
   "cell_type": "markdown",
   "id": "e9f0734e",
   "metadata": {},
   "source": [
    "## Quota"
   ]
  },
  {
   "cell_type": "code",
   "execution_count": 32,
   "id": "e341373c",
   "metadata": {},
   "outputs": [],
   "source": [
    "#Function to call the API\n",
    "def api_callQuota(fromDate, idItem):\n",
    "    response = requests.get(f'http://127.0.0.1:8000/quota?fromDate={fromDate}&idItem={idItem}')\n",
    "    data = response.json()        \n",
    "    tupleToInsert = tuple(data.values())\n",
    "    return tupleToInsert\n",
    "\n",
    "#Function to create a SQL insert statement\n",
    "def convert_to_sqlQuota(data):\n",
    "    sql_statements = []\n",
    "    for record in data:\n",
    "        values = ', '.join([f\"'{str(value)}'\" for value in record])\n",
    "        sql_statement = f\"\"\"INSERT INTO quota \n",
    "    (period, idItem, quota) \n",
    "    VALUES ({values});\"\"\"\n",
    "        sql_statements.append(sql_statement)\n",
    "    return sql_statements\n",
    "\n",
    "#Function to store SQL script into a file\n",
    "def store_sql_scriptQuota(sql_statements, file_name='C:/Tesis/AnalyticsDocker/postgresql/quotaInsert.sql'):\n",
    "    with open(file_name, 'w') as file:\n",
    "        for statement in sql_statements:\n",
    "            file.write(statement  + '\\n')"
   ]
  },
  {
   "cell_type": "code",
   "execution_count": 33,
   "id": "1674e729",
   "metadata": {},
   "outputs": [],
   "source": [
    "#List that will contain the results\n",
    "resultsQuota = []\n",
    "\n",
    "#List containing the periods for the Quota that needs to be generated\n",
    "periods = [\"2024-01-01\",\n",
    "           \"2024-02-01\",\n",
    "           \"2024-03-01\",\n",
    "           \"2024-04-01\",\n",
    "           \"2024-05-01\",\n",
    "           \"2024-06-01\",\n",
    "           \"2024-07-01\",\n",
    "           \"2024-08-01\",\n",
    "           \"2024-09-01\",\n",
    "           \"2024-10-01\",\n",
    "           \"2024-11-01\",\n",
    "           \"2024-12-01\"]\n",
    "\n",
    "#List cointaing the ID of the items\n",
    "items = [\"1\",\"2\",\"3\"]"
   ]
  },
  {
   "cell_type": "code",
   "execution_count": 34,
   "id": "a79920b2",
   "metadata": {},
   "outputs": [],
   "source": [
    "for period in periods:\n",
    "    for item in items:\n",
    "        resultsQuota.append(api_callQuota(period, item))"
   ]
  },
  {
   "cell_type": "code",
   "execution_count": 35,
   "id": "3d2e7a00",
   "metadata": {},
   "outputs": [],
   "source": [
    "#creating the inserts statements\n",
    "sql_statements_Quota = convert_to_sqlQuota(resultsQuota)"
   ]
  },
  {
   "cell_type": "code",
   "execution_count": 36,
   "id": "b1cea7a2",
   "metadata": {},
   "outputs": [],
   "source": [
    "#saving the statements\n",
    "store_sql_scriptQuota(sql_statements_Quota)"
   ]
  },
  {
   "cell_type": "markdown",
   "id": "37357c51",
   "metadata": {},
   "source": [
    "## Sensor Data"
   ]
  },
  {
   "cell_type": "code",
   "execution_count": 15,
   "id": "d92d4630",
   "metadata": {},
   "outputs": [],
   "source": [
    "#funtion to generate a list with the epoch beetween 2 dates, from 6 am to 2 pm with intervals of 2 minute\n",
    "def generate_timestamps(start_date, end_date):\n",
    "    current_date = start_date\n",
    "    end_time = timedelta(hours=14)  # 2 PM\n",
    "    timestamps_in_seconds = []\n",
    "\n",
    "    while current_date <= end_date:\n",
    "        time = timedelta(hours=6)  # 6 AM\n",
    "        while time <= end_time:\n",
    "            timestamp = datetime.combine(current_date, datetime.min.time()) + time\n",
    "            timestamps_in_seconds.append(int(timestamp.timestamp()))\n",
    "            time += timedelta(minutes=4)\n",
    "        current_date += timedelta(days=1)\n",
    "\n",
    "    return timestamps_in_seconds\n",
    "\n",
    "#Function to create a SQL insert statement\n",
    "def convert_to_sqlSensor(data):\n",
    "    sql_statements = []\n",
    "    for record in data:\n",
    "        values = ', '.join([f\"'{str(value)}'\" for value in record])\n",
    "        sql_statement = f\"\"\"INSERT INTO sensordata \n",
    "    (createdAt, mach, temp)\n",
    "    VALUES ({values});\"\"\"\n",
    "        sql_statements.append(sql_statement)\n",
    "    return sql_statements\n",
    "\n",
    "#Function to store SQL script into a file\n",
    "def store_sql_scriptSensor(sql_statements, file_name='C:/Tesis/AnalyticsDocker/postgresql/sensorInsert.sql'):\n",
    "    with open(file_name, 'w') as file:\n",
    "        for statement in sql_statements:\n",
    "            file.write(statement  + '\\n')"
   ]
  },
  {
   "cell_type": "code",
   "execution_count": 16,
   "id": "736338c9",
   "metadata": {},
   "outputs": [],
   "source": [
    "#Creating a list with the days of the year 2024\n",
    "start_date = datetime.strptime('2024-01-01', '%Y-%m-%d')\n",
    "end_date = datetime.strptime('2024-12-31', '%Y-%m-%d')\n",
    "\n",
    "date_list = generate_timestamps(start_date, end_date)"
   ]
  },
  {
   "cell_type": "code",
   "execution_count": 17,
   "id": "4b0dee8b",
   "metadata": {},
   "outputs": [],
   "source": [
    "#Defining the parameters wich the sensor data will be created\n",
    "parameters = {\n",
    "    '1': {'moldTemp': 75, 'tempDev': 10, 'maq': 'Iny 1'},\n",
    "    '2': {'moldTemp': 40, 'tempDev': 5, 'maq': 'Iny 2'},\n",
    "    '3': {'moldTemp': 90, 'tempDev': 18, 'maq': 'Iny 3'},\n",
    "}\n",
    "\n",
    "resultsSensor = []"
   ]
  },
  {
   "cell_type": "code",
   "execution_count": 18,
   "id": "4fbc6123",
   "metadata": {},
   "outputs": [],
   "source": [
    "for sensorDate in date_list:\n",
    "    for parameter in parameters:\n",
    "        mean   = parameters[parameter]['moldTemp']\n",
    "        stdDev = parameters[parameter]['tempDev']\n",
    "        resultsSensor.append(\n",
    "                             (sensorDate, \n",
    "                              parameters[parameter]['maq'],\n",
    "                              round(random.normalvariate(mean, stdDev),2))\n",
    "                            )"
   ]
  },
  {
   "cell_type": "code",
   "execution_count": 19,
   "id": "732aa0a5",
   "metadata": {},
   "outputs": [],
   "source": [
    "#creating the inserts statements\n",
    "sql_statements_Sensor = convert_to_sqlSensor(resultsSensor)"
   ]
  },
  {
   "cell_type": "code",
   "execution_count": 20,
   "id": "cb657727",
   "metadata": {},
   "outputs": [],
   "source": [
    "#saving the statements\n",
    "store_sql_scriptSensor(sql_statements_Sensor)"
   ]
  },
  {
   "cell_type": "markdown",
   "id": "4a744264",
   "metadata": {},
   "source": [
    "## Files Concatenation"
   ]
  },
  {
   "cell_type": "code",
   "execution_count": 37,
   "id": "5b40f1f4",
   "metadata": {},
   "outputs": [],
   "source": [
    "#Functions\n",
    "\n",
    "def concatenate_sql_files(file_list, input_folder, output_file):\n",
    "    with open(output_file, 'w') as outfile:\n",
    "        for filename in file_list:\n",
    "            filepath = os.path.join(input_folder, filename)\n",
    "            with open(filepath, 'r') as infile:\n",
    "                # Write the content of each file to the output file\n",
    "                content = infile.read()\n",
    "                content = content.replace(\"'None'\", 'NULL')\n",
    "                outfile.write(content)\n",
    "                outfile.write(\"\\n\")  # Add a newline for separation between files\n",
    "\n",
    "def get_sql_file_list(input_folder):\n",
    "    # Get the list of files in the input folder\n",
    "    files = [f for f in os.listdir(input_folder) if f.endswith('.sql')]\n",
    "    \n",
    "    # Sort the files by name\n",
    "    files.sort()\n",
    "    \n",
    "    return files"
   ]
  },
  {
   "cell_type": "code",
   "execution_count": 39,
   "id": "29a21238",
   "metadata": {},
   "outputs": [
    {
     "name": "stdout",
     "output_type": "stream",
     "text": [
      "['quotaInsert.sql', 'sensorInsert.sql', 'soInsert.sql', 'sqlCreateTable.sql', 'sqlCreateViews.sql', 'sqlInit.sql', 'sqlInsertDimensionData.sql', 'sqlReset.sql', 'woInsert.sql']\n"
     ]
    }
   ],
   "source": [
    "file_list = get_sql_file_list('C:/Tesis/AnalyticsDocker/postgresql/')\n",
    "\n",
    "print(file_list)"
   ]
  },
  {
   "cell_type": "code",
   "execution_count": 40,
   "id": "3aea95cf",
   "metadata": {},
   "outputs": [],
   "source": [
    "#defining the order wich the files will be concatenated\n",
    "file_list_ordered = ['sqlCreateTable.sql',\n",
    "                     'sqlInsertDimensionData.sql',\n",
    "                     'soInsert.sql',\n",
    "                     'woInsert.sql',\n",
    "                     'quotaInsert.sql',\n",
    "                     'sensorInsert.sql',\n",
    "                     'sqlCreateViews.sql', \n",
    "                     'sqlReset.sql',\n",
    "                     ]"
   ]
  },
  {
   "cell_type": "code",
   "execution_count": 41,
   "id": "6665b78f",
   "metadata": {},
   "outputs": [],
   "source": [
    "#concatenating the files\n",
    "concatenate_sql_files(file_list_ordered, 'C:/Tesis/AnalyticsDocker/postgresql', 'C:/Tesis/AnalyticsDocker/postgresql/sqlInit.sql')"
   ]
  }
 ],
 "metadata": {
  "kernelspec": {
   "display_name": "Python [conda env:root] *",
   "language": "python",
   "name": "conda-root-py"
  },
  "language_info": {
   "codemirror_mode": {
    "name": "ipython",
    "version": 3
   },
   "file_extension": ".py",
   "mimetype": "text/x-python",
   "name": "python",
   "nbconvert_exporter": "python",
   "pygments_lexer": "ipython3",
   "version": "3.9.16"
  }
 },
 "nbformat": 4,
 "nbformat_minor": 5
}
